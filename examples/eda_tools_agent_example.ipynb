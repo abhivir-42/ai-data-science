{
  "cells": [
    {
      "cell_type": "raw",
      "metadata": {
        "vscode": {
          "languageId": "raw"
        }
      },
      "source": [
        "# Exploratory Data Analysis with AI Tools\n",
        "\n",
        "This notebook demonstrates how to use the EDA Tools Agent for comprehensive exploratory data analysis. The agent can:\n",
        "\n",
        "- Generate detailed data summaries\n",
        "- Create missing data visualisations\n",
        "- Perform correlation analysis\n",
        "- Generate comprehensive EDA reports\n",
        "- Create interactive data exploration interfaces\n"
      ]
    },
    {
      "cell_type": "code",
      "execution_count": null,
      "metadata": {},
      "outputs": [],
      "source": [
        "# Libraries\n",
        "from langchain_openai import ChatOpenAI\n",
        "import os\n",
        "import pandas as pd\n",
        "\n",
        "from src.ds_agents import EDAToolsAgent\n"
      ]
    },
    {
      "cell_type": "code",
      "execution_count": null,
      "metadata": {},
      "outputs": [],
      "source": [
        "# Setup\n",
        "MODEL = \"gpt-4o-mini\"\n",
        "# Load OpenAI API key from environment or .env file\n",
        "# Make sure to set your OPENAI_API_KEY in environment variables or .env file\n",
        "\n",
        "llm = ChatOpenAI(model=MODEL)\n",
        "\n",
        "# Create EDA Tools Agent\n",
        "eda_agent = EDAToolsAgent(model=llm)\n",
        "eda_agent\n"
      ]
    },
    {
      "cell_type": "code",
      "execution_count": null,
      "metadata": {},
      "outputs": [],
      "source": [
        "# Load sample data\n",
        "df = pd.read_csv(\"https://raw.githubusercontent.com/business-science/ai-data-science-team/refs/heads/master/data/churn_data.csv\")\n",
        "df.head()\n"
      ]
    },
    {
      "cell_type": "code",
      "execution_count": null,
      "metadata": {},
      "outputs": [],
      "source": [
        "# Perform comprehensive EDA\n",
        "eda_agent.invoke_agent(\n",
        "    user_instructions=\"Please perform a comprehensive exploratory data analysis of this customer churn dataset. Include data summary, missing value analysis, and any interesting patterns you find.\",\n",
        "    data_raw=df\n",
        ")\n"
      ]
    },
    {
      "cell_type": "raw",
      "metadata": {
        "vscode": {
          "languageId": "raw"
        }
      },
      "source": [
        "# Exploratory Data Analysis with AI Tools\n",
        "\n",
        "This notebook demonstrates how to use the EDA Tools Agent for comprehensive exploratory data analysis. The agent can:\n",
        "\n",
        "- Generate detailed data summaries\n",
        "- Create missing data visualisations\n",
        "- Perform correlation analysis\n",
        "- Generate comprehensive EDA reports\n",
        "- Create interactive data exploration interfaces\n"
      ]
    },
    {
      "cell_type": "code",
      "execution_count": 1,
      "metadata": {},
      "outputs": [],
      "source": [
        "# Libraries\n",
        "from langchain_openai import ChatOpenAI\n",
        "import os\n",
        "import pandas as pd\n",
        "\n",
        "from src.ds_agents import EDAToolsAgent\n"
      ]
    },
    {
      "cell_type": "code",
      "execution_count": 6,
      "metadata": {},
      "outputs": [
        {
          "data": {
            "image/png": "[encoded data removed]",
            "text/plain": [
              "<src.ds_agents.eda_tools_agent.EDAToolsAgent object at 0x12bff08b0>"
            ]
          },
          "execution_count": 6,
          "metadata": {},
          "output_type": "execute_result"
        }
      ],
      "source": [
        "# Setup\n",
        "MODEL = \"gpt-4o-mini\"\n",
        "# Load OpenAI API key from environment or .env file\n",
        "# os.environ[\"OPENAI_API_KEY\"] = \"your-openai-api-key-here\"\n",
        "\n",
        "llm = ChatOpenAI(model=MODEL)\n",
        "\n",
        "# Create EDA Tools Agent\n",
        "eda_agent = EDAToolsAgent(model=llm)\n",
        "eda_agent\n"
      ]
    },
    {
      "cell_type": "code",
      "execution_count": 7,
      "metadata": {},
      "outputs": [
        {
          "data": {
            "text/html": [
              "<div>\n",
              "<style scoped>\n",
              "    .dataframe tbody tr th:only-of-type {\n",
              "        vertical-align: middle;\n",
              "    }\n",
              "\n",
              "    .dataframe tbody tr th {\n",
              "        vertical-align: top;\n",
              "    }\n",
              "\n",
              "    .dataframe thead th {\n",
              "        text-align: right;\n",
              "    }\n",
              "</style>\n",
              "<table border=\"1\" class=\"dataframe\">\n",
              "  <thead>\n",
              "    <tr style=\"text-align: right;\">\n",
              "      <th></th>\n",
              "      <th>customerID</th>\n",
              "      <th>gender</th>\n",
              "      <th>SeniorCitizen</th>\n",
              "      <th>Partner</th>\n",
              "      <th>Dependents</th>\n",
              "      <th>tenure</th>\n",
              "      <th>PhoneService</th>\n",
              "      <th>MultipleLines</th>\n",
              "      <th>InternetService</th>\n",
              "      <th>OnlineSecurity</th>\n",
              "      <th>...</th>\n",
              "      <th>DeviceProtection</th>\n",
              "      <th>TechSupport</th>\n",
              "      <th>StreamingTV</th>\n",
              "      <th>StreamingMovies</th>\n",
              "      <th>Contract</th>\n",
              "      <th>PaperlessBilling</th>\n",
              "      <th>PaymentMethod</th>\n",
              "      <th>MonthlyCharges</th>\n",
              "      <th>TotalCharges</th>\n",
              "      <th>Churn</th>\n",
              "    </tr>\n",
              "  </thead>\n",
              "  <tbody>\n",
              "    <tr>\n",
              "      <th>0</th>\n",
              "      <td>7590-VHVEG</td>\n",
              "      <td>Female</td>\n",
              "      <td>0</td>\n",
              "      <td>Yes</td>\n",
              "      <td>No</td>\n",
              "      <td>1</td>\n",
              "      <td>No</td>\n",
              "      <td>No phone service</td>\n",
              "      <td>DSL</td>\n",
              "      <td>No</td>\n",
              "      <td>...</td>\n",
              "      <td>No</td>\n",
              "      <td>No</td>\n",
              "      <td>No</td>\n",
              "      <td>No</td>\n",
              "      <td>Month-to-month</td>\n",
              "      <td>Yes</td>\n",
              "      <td>Electronic check</td>\n",
              "      <td>29.85</td>\n",
              "      <td>29.85</td>\n",
              "      <td>No</td>\n",
              "    </tr>\n",
              "    <tr>\n",
              "      <th>1</th>\n",
              "      <td>5575-GNVDE</td>\n",
              "      <td>Male</td>\n",
              "      <td>0</td>\n",
              "      <td>No</td>\n",
              "      <td>No</td>\n",
              "      <td>34</td>\n",
              "      <td>Yes</td>\n",
              "      <td>No</td>\n",
              "      <td>DSL</td>\n",
              "      <td>Yes</td>\n",
              "      <td>...</td>\n",
              "      <td>Yes</td>\n",
              "      <td>No</td>\n",
              "      <td>No</td>\n",
              "      <td>No</td>\n",
              "      <td>One year</td>\n",
              "      <td>No</td>\n",
              "      <td>Mailed check</td>\n",
              "      <td>56.95</td>\n",
              "      <td>1889.5</td>\n",
              "      <td>No</td>\n",
              "    </tr>\n",
              "    <tr>\n",
              "      <th>2</th>\n",
              "      <td>3668-QPYBK</td>\n",
              "      <td>Male</td>\n",
              "      <td>0</td>\n",
              "      <td>No</td>\n",
              "      <td>No</td>\n",
              "      <td>2</td>\n",
              "      <td>Yes</td>\n",
              "      <td>No</td>\n",
              "      <td>DSL</td>\n",
              "      <td>Yes</td>\n",
              "      <td>...</td>\n",
              "      <td>No</td>\n",
              "      <td>No</td>\n",
              "      <td>No</td>\n",
              "      <td>No</td>\n",
              "      <td>Month-to-month</td>\n",
              "      <td>Yes</td>\n",
              "      <td>Mailed check</td>\n",
              "      <td>53.85</td>\n",
              "      <td>108.15</td>\n",
              "      <td>Yes</td>\n",
              "    </tr>\n",
              "    <tr>\n",
              "      <th>3</th>\n",
              "      <td>7795-CFOCW</td>\n",
              "      <td>Male</td>\n",
              "      <td>0</td>\n",
              "      <td>No</td>\n",
              "      <td>No</td>\n",
              "      <td>45</td>\n",
              "      <td>No</td>\n",
              "      <td>No phone service</td>\n",
              "      <td>DSL</td>\n",
              "      <td>Yes</td>\n",
              "      <td>...</td>\n",
              "      <td>Yes</td>\n",
              "      <td>Yes</td>\n",
              "      <td>No</td>\n",
              "      <td>No</td>\n",
              "      <td>One year</td>\n",
              "      <td>No</td>\n",
              "      <td>Bank transfer (automatic)</td>\n",
              "      <td>42.30</td>\n",
              "      <td>1840.75</td>\n",
              "      <td>No</td>\n",
              "    </tr>\n",
              "    <tr>\n",
              "      <th>4</th>\n",
              "      <td>9237-HQITU</td>\n",
              "      <td>Female</td>\n",
              "      <td>0</td>\n",
              "      <td>No</td>\n",
              "      <td>No</td>\n",
              "      <td>2</td>\n",
              "      <td>Yes</td>\n",
              "      <td>No</td>\n",
              "      <td>Fiber optic</td>\n",
              "      <td>No</td>\n",
              "      <td>...</td>\n",
              "      <td>No</td>\n",
              "      <td>No</td>\n",
              "      <td>No</td>\n",
              "      <td>No</td>\n",
              "      <td>Month-to-month</td>\n",
              "      <td>Yes</td>\n",
              "      <td>Electronic check</td>\n",
              "      <td>70.70</td>\n",
              "      <td>151.65</td>\n",
              "      <td>Yes</td>\n",
              "    </tr>\n",
              "  </tbody>\n",
              "</table>\n",
              "<p>5 rows × 21 columns</p>\n",
              "</div>"
            ],
            "text/plain": [
              "   customerID  gender  SeniorCitizen Partner Dependents  tenure PhoneService  \\\n",
              "0  7590-VHVEG  Female              0     Yes         No       1           No   \n",
              "1  5575-GNVDE    Male              0      No         No      34          Yes   \n",
              "2  3668-QPYBK    Male              0      No         No       2          Yes   \n",
              "3  7795-CFOCW    Male              0      No         No      45           No   \n",
              "4  9237-HQITU  Female              0      No         No       2          Yes   \n",
              "\n",
              "      MultipleLines InternetService OnlineSecurity  ... DeviceProtection  \\\n",
              "0  No phone service             DSL             No  ...               No   \n",
              "1                No             DSL            Yes  ...              Yes   \n",
              "2                No             DSL            Yes  ...               No   \n",
              "3  No phone service             DSL            Yes  ...              Yes   \n",
              "4                No     Fiber optic             No  ...               No   \n",
              "\n",
              "  TechSupport StreamingTV StreamingMovies        Contract PaperlessBilling  \\\n",
              "0          No          No              No  Month-to-month              Yes   \n",
              "1          No          No              No        One year               No   \n",
              "2          No          No              No  Month-to-month              Yes   \n",
              "3         Yes          No              No        One year               No   \n",
              "4          No          No              No  Month-to-month              Yes   \n",
              "\n",
              "               PaymentMethod MonthlyCharges  TotalCharges Churn  \n",
              "0           Electronic check          29.85         29.85    No  \n",
              "1               Mailed check          56.95        1889.5    No  \n",
              "2               Mailed check          53.85        108.15   Yes  \n",
              "3  Bank transfer (automatic)          42.30       1840.75    No  \n",
              "4           Electronic check          70.70        151.65   Yes  \n",
              "\n",
              "[5 rows x 21 columns]"
            ]
          },
          "execution_count": 7,
          "metadata": {},
          "output_type": "execute_result"
        }
      ],
      "source": [
        "# Load sample data\n",
        "df = pd.read_csv(\"https://raw.githubusercontent.com/business-science/ai-data-science-team/refs/heads/master/data/churn_data.csv\")\n",
        "df.head()\n"
      ]
    },
    {
      "cell_type": "code",
      "execution_count": 8,
      "metadata": {},
      "outputs": [
        {
          "name": "stdout",
          "output_type": "stream",
          "text": [
            "---EXPLORATORY DATA ANALYST AGENT----\n",
            "    * RUN REACT TOOL-CALLING AGENT FOR EDA\n",
            "    * Tool: explain_data\n",
            "    * Tool: visualise_missing\n"
          ]
        },
        {
          "name": "stderr",
          "output_type": "stream",
          "text": [
            "/Users/abhivir42/projects/fetch/ai-data-science/src/tools/eda.py:134: UserWarning: This figure includes Axes that are not compatible with tight_layout, so results might be incorrect.\n",
            "  plt.tight_layout()\n",
            "/Users/abhivir42/projects/ai-ds-venv/lib/python3.10/site-packages/seaborn/matrix.py:309: UserWarning: Attempting to set identical low and high xlims makes transformation singular; automatically expanding.\n",
            "  ax.set(xlim=(0, self.data.shape[1]), ylim=(0, self.data.shape[0]))\n",
            "/Users/abhivir42/projects/ai-ds-venv/lib/python3.10/site-packages/seaborn/matrix.py:309: UserWarning: Attempting to set identical low and high ylims makes transformation singular; automatically expanding.\n",
            "  ax.set(xlim=(0, self.data.shape[1]), ylim=(0, self.data.shape[0]))\n"
          ]
        },
        {
          "name": "stdout",
          "output_type": "stream",
          "text": [
            "    * Tool: describe_dataset\n",
            "    * POST-PROCESSING EDA RESULTS\n"
          ]
        },
        {
          "data": {
            "text/plain": [
              "<Figure size 800x600 with 0 Axes>"
            ]
          },
          "metadata": {},
          "output_type": "display_data"
        },
        {
          "data": {
            "text/plain": [
              "<Figure size 800x600 with 0 Axes>"
            ]
          },
          "metadata": {},
          "output_type": "display_data"
        }
      ],
      "source": [
        "# Perform comprehensive EDA\n",
        "eda_agent.invoke_agent(\n",
        "    user_instructions=\"Please perform a comprehensive exploratory data analysis of this customer churn dataset. Include data summary, missing value analysis, and any interesting patterns you find.\",\n",
        "    data_raw=df\n",
        ")\n"
      ]
    },
    {
      "cell_type": "code",
      "execution_count": 9,
      "metadata": {},
      "outputs": [
        {
          "name": "stdout",
          "output_type": "stream",
          "text": [
            "### Exploratory Data Analysis (EDA) of Customer Churn Dataset\n",
            "\n",
            "#### 1. **Data Summary**\n",
            "- **Dataset Name:** Single_Dataset\n",
            "- **Shape:** 7043 rows x 21 columns\n",
            "- **Column Data Types:**\n",
            "  - `customerID`: object\n",
            "  - `gender`: object\n",
            "  - `SeniorCitizen`: int64\n",
            "  - `Partner`: object\n",
            "  - `Dependents`: object\n",
            "  - `tenure`: int64\n",
            "  - `PhoneService`: object\n",
            "  - `MultipleLines`: object\n",
            "  - `InternetService`: object\n",
            "  - `OnlineSecurity`: object\n",
            "  - `OnlineBackup`: object\n",
            "  - `DeviceProtection`: object\n",
            "  - `TechSupport`: object\n",
            "  - `StreamingTV`: object\n",
            "  - `StreamingMovies`: object\n",
            "  - `Contract`: object\n",
            "  - `PaperlessBilling`: object\n",
            "  - `PaymentMethod`: object\n",
            "  - `MonthlyCharges`: float64\n",
            "  - `TotalCharges`: object\n",
            "  - `Churn`: object\n",
            "\n",
            "- **Missing Value Analysis:**\n",
            "  - There are **no missing values** in any of the columns. All columns have 7043 non-null entries.\n",
            "\n",
            "- **Unique Value Counts:**\n",
            "  - `customerID`: 7043\n",
            "  - `gender`: 2 (Male, Female)\n",
            "  - `SeniorCitizen`: 2 (0, 1)\n",
            "  - `Partner`: 2 (Yes, No)\n",
            "  - `Dependents`: 2 (Yes, No)\n",
            "  - `tenure`: 73 unique values\n",
            "  - Various service-related columns (e.g., `PhoneService`, `InternetService`) have up to 3 unique values.\n",
            "  - `Churn`: 2 (Yes, No)\n",
            "\n",
            "- **Sample Data (First 30 rows):**\n",
            "  - An overview of the initial rows in the dataset shows a mix of customer attributes, service types, charges, and churn status.\n",
            "\n",
            "#### 2. **Summary Statistics**\n",
            "- **Numerical Columns:**\n",
            "  - `SeniorCitizen` — Mean: 0.162, Std: 0.369 (indicating that ~16% of customers are senior citizens)\n",
            "  - `tenure` — Mean: 32.37, Min: 0, Max: 72 (indicating a wide range of customer tenure)\n",
            "  - `MonthlyCharges` — Mean: $64.76, Min: $18.25, Max: $118.75 (indicating variability in monthly charges)\n",
            "\n",
            "#### 3. **Missing Value Analysis**\n",
            "Visualizations were generated to analyze missing data, including:\n",
            "- **Matrix Plot:** Visual representation of missing values in the dataset.\n",
            "- **Bar Plot:** A bar chart summarizing the number of missing values per column.\n",
            "- **Heatmap Plot:** Heatmap showcasing the missing values correlations, which shows no missing values across any column.\n",
            "\n",
            "#### 4. **Interesting Patterns**\n",
            "- **Tenure and Churn:** The relationship between customer tenure and churn rate can be analyzed. Typically, customers with shorter tenure may have a higher churn rate.\n",
            "- **Service Usage:** Analyzing which services (e.g., InternetService type, TechSupport) correlate with higher churn can reveal critical insights for customer retention strategies.\n",
            "\n",
            "The comprehensive data overview and analysis indicate a well-structured dataset, with no missing values, providing a solid basis for further analysis on customer behavior and churn prediction. If you want to dive deeper into specific patterns or conduct further visualizations, please let me know!\n"
          ]
        }
      ],
      "source": [
        "# Get the AI analysis\n",
        "ai_message = eda_agent.get_ai_message()\n",
        "print(ai_message)\n"
      ]
    },
    {
      "cell_type": "code",
      "execution_count": 10,
      "metadata": {},
      "outputs": [
        {
          "name": "stdout",
          "output_type": "stream",
          "text": [
            "Available artifacts: ['describe_df']\n"
          ]
        }
      ],
      "source": [
        "# Get the EDA artifacts (plots, reports, etc.)\n",
        "artifacts = eda_agent.get_artifacts()\n",
        "print(\"Available artifacts:\", list(artifacts.keys()))\n"
      ]
    },
    {
      "cell_type": "code",
      "execution_count": null,
      "metadata": {},
      "outputs": [],
      "source": []
    }
  ],
  "metadata": {
    "kernelspec": {
      "display_name": "ai-ds-venv",
      "language": "python",
      "name": "python3"
    },
    "language_info": {
      "codemirror_mode": {
        "name": "ipython",
        "version": 3
      },
      "file_extension": ".py",
      "mimetype": "text/x-python",
      "name": "python",
      "nbconvert_exporter": "python",
      "pygments_lexer": "ipython3",
      "version": "3.10.5"
    }
  },
  "nbformat": 4,
  "nbformat_minor": 2
}
