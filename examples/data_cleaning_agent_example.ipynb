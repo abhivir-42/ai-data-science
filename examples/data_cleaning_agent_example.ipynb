{
  "cells": [
    {
      "cell_type": "raw",
      "metadata": {
        "vscode": {
          "languageId": "raw"
        }
      },
      "source": [
        "# How to Automate Data Cleaning with AI\n",
        "\n",
        "In this tutorial, you will learn how to automate data cleaning with AI. It can automatically:\n",
        "\n",
        "- detect and fix common data cleaning issues\n",
        "- missing values\n",
        "- duplicate rows\n",
        "- inconsistent data types\n",
        "\n",
        "By using this AI agent, you can save time and effort on data cleaning, allowing you to focus on more important tasks.\n"
      ]
    },
    {
      "cell_type": "raw",
      "metadata": {
        "vscode": {
          "languageId": "raw"
        }
      },
      "source": [
        "## Table of Contents\n",
        "\n",
        "1. [Load Libraries](#load-libraries)\n",
        "2. [Setup AI and Logging](#setup-ai-and-logging)\n",
        "3. [Load a Dataset](#load-a-dataset)\n",
        "4. [Create The Agent](#create-the-agent)\n",
        "5. [Response](#response)\n",
        "6. [The cleaning recipe](#the-cleaning-recipe)\n",
        "7. [Data Cleaner Function](#data-cleaner-function)\n",
        "8. [Cleaned Data As Pandas Data Frame](#cleaned-data-as-pandas-data-frame)\n"
      ]
    },
    {
      "cell_type": "code",
      "execution_count": null,
      "metadata": {},
      "outputs": [],
      "source": [
        "# Libraries\n",
        "from langchain_openai import ChatOpenAI\n",
        "import os\n",
        "import pandas as pd\n",
        "from pprint import pprint\n",
        "\n",
        "from src.agents import DataCleaningAgent\n"
      ]
    },
    {
      "cell_type": "code",
      "execution_count": null,
      "metadata": {},
      "outputs": [],
      "source": [
        "# Setup\n",
        "MODEL = \"gpt-4o-mini\"\n",
        "LOG = True\n",
        "LOG_PATH = os.path.join(os.getcwd(), \"logs/\")\n",
        "\n",
        "# Set your OpenAI API key\n",
        "os.environ[\"OPENAI_API_KEY\"] = \"your-openai-api-key-here\"\n",
        "\n",
        "llm = ChatOpenAI(model=MODEL)\n",
        "llm\n"
      ]
    }
  ],
  "metadata": {
    "language_info": {
      "name": "python"
    }
  },
  "nbformat": 4,
  "nbformat_minor": 2
}
